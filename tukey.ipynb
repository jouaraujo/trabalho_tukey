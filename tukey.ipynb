{
 "cells": [
  {
   "cell_type": "markdown",
   "metadata": {},
   "source": [
    "Temos: \n",
    "- 6 tratamentos\n",
    "- 5 repetições \n",
    "- e uma amostra com 30 observações"
   ]
  },
  {
   "cell_type": "markdown",
   "metadata": {},
   "source": [
    "Graus de liberdade:\n",
    "- 5 para o tratamento\n",
    "- 29 para o total\n",
    "- 24 para o resíduo"
   ]
  },
  {
   "cell_type": "markdown",
   "metadata": {},
   "source": [
    "A diferença mínima significativa de tukey é dado por:\n",
    "\n",
    "$\\Delta = q.\\sqrt{\\frac{QMResíduo}{r}}$"
   ]
  },
  {
   "cell_type": "markdown",
   "metadata": {},
   "source": [
    "q = (número de tratamentos, GL do resíduo)$\\alpha$  \n",
    "\n",
    "ou seja: \n",
    "\n",
    "q = (6, 24)5% => 4.37"
   ]
  },
  {
   "cell_type": "markdown",
   "metadata": {},
   "source": [
    "QMResíduo é o Quadrado médio do resíduo, nesse caso é igual a 36"
   ]
  },
  {
   "cell_type": "markdown",
   "metadata": {},
   "source": [
    "r são as repetições, temos 5"
   ]
  },
  {
   "cell_type": "markdown",
   "metadata": {},
   "source": [
    "então $\\Delta = 4.37.\\sqrt{\\frac{36}{5}}$\n",
    "\n",
    "que é 11,72"
   ]
  },
  {
   "cell_type": "code",
   "execution_count": 2,
   "metadata": {},
   "outputs": [
    {
     "data": {
      "text/html": [
       "<div>\n",
       "<style scoped>\n",
       "    .dataframe tbody tr th:only-of-type {\n",
       "        vertical-align: middle;\n",
       "    }\n",
       "\n",
       "    .dataframe tbody tr th {\n",
       "        vertical-align: top;\n",
       "    }\n",
       "\n",
       "    .dataframe thead th {\n",
       "        text-align: right;\n",
       "    }\n",
       "</style>\n",
       "<table border=\"1\" class=\"dataframe\">\n",
       "  <thead>\n",
       "    <tr style=\"text-align: right;\">\n",
       "      <th></th>\n",
       "      <th>Cultivar</th>\n",
       "      <th>Media</th>\n",
       "    </tr>\n",
       "  </thead>\n",
       "  <tbody>\n",
       "    <tr>\n",
       "      <th>0</th>\n",
       "      <td>Cia1</td>\n",
       "      <td>21</td>\n",
       "    </tr>\n",
       "    <tr>\n",
       "      <th>1</th>\n",
       "      <td>Cia2</td>\n",
       "      <td>29</td>\n",
       "    </tr>\n",
       "    <tr>\n",
       "      <th>2</th>\n",
       "      <td>Toc1</td>\n",
       "      <td>10</td>\n",
       "    </tr>\n",
       "    <tr>\n",
       "      <th>3</th>\n",
       "      <td>Toc2</td>\n",
       "      <td>8</td>\n",
       "    </tr>\n",
       "    <tr>\n",
       "      <th>4</th>\n",
       "      <td>Br1</td>\n",
       "      <td>13</td>\n",
       "    </tr>\n",
       "    <tr>\n",
       "      <th>5</th>\n",
       "      <td>Br4</td>\n",
       "      <td>2</td>\n",
       "    </tr>\n",
       "  </tbody>\n",
       "</table>\n",
       "</div>"
      ],
      "text/plain": [
       "  Cultivar  Media\n",
       "0     Cia1     21\n",
       "1     Cia2     29\n",
       "2     Toc1     10\n",
       "3     Toc2      8\n",
       "4      Br1     13\n",
       "5      Br4      2"
      ]
     },
     "execution_count": 2,
     "metadata": {},
     "output_type": "execute_result"
    }
   ],
   "source": [
    "import pandas as pd\n",
    "\n",
    "df_medias = pd.DataFrame(\n",
    "    {\n",
    "        \"Cultivar\": [\"Cia1\", \"Cia2\", \"Toc1\", \"Toc2\", \"Br1\", \"Br4\"],\n",
    "        \"Media\": [21, 29, 10, 8, 13, 2]\n",
    "    }\n",
    ")\n",
    "\n",
    "df_medias"
   ]
  },
  {
   "cell_type": "markdown",
   "metadata": {},
   "source": [
    "### Médias em ordem decrescente\n",
    "\n",
    "- média cia2 = 29\n",
    "- média cia1 = 21\n",
    "- média br1 = 13\n",
    "- média toc1 = 10\n",
    "- média toc2 = 8\n",
    "- média br4 = 2"
   ]
  },
  {
   "cell_type": "markdown",
   "metadata": {},
   "source": [
    "### Contrastes"
   ]
  },
  {
   "cell_type": "markdown",
   "metadata": {},
   "source": [
    "- c1 = média cia2 - média cia1 = 8 < $\\Delta$ não rejeita HO\n",
    "- c2 = média cia2 - média br1 = 16 > $\\Delta$ Rejeita HO\n",
    "- c3 = média cia1 - média br1 = 8 < $\\Delta$ não rejeita HO\n",
    "- c4 = média cia1 - média toc1 = 11 > $\\Delta$ Rejeita HO\n",
    "- c5 = média br1 - média toc1 = 3 < $\\Delta$ não rejeita HO\n",
    "- c6 = média br1 - média toc2 = 5 < $\\Delta$ não rejeita HO\n",
    "- c7 = média br1 - média br4 = 11 > $\\Delta$ rejeita HO\n",
    "- c8 = média toc1 - média toc2 = 2 < $\\Delta$ não rejeita HO\n",
    "- c9 = média toc1 - média br4 = 8 < $\\Delta$ não rejeita HO\n",
    "- c10 = média toc2 - média br4 = 6 < $\\Delta$ não rejeita HO\n"
   ]
  },
  {
   "cell_type": "markdown",
   "metadata": {},
   "source": [
    "Maior que $\\Delta$ \"significativo\", menor \"não significativo\"\n",
    "\n",
    "- c1 não significativo\n",
    "- c2 significativo\n",
    "- c3 não significativo\n",
    "- c4 significativo\n",
    "- c5 não significativo\n",
    "- c6 não significativo\n",
    "- c7 significativo\n",
    "- c8 não significativo\n",
    "- c9 não significativo\n",
    "- c10 não significativo\n"
   ]
  },
  {
   "cell_type": "markdown",
   "metadata": {},
   "source": [
    "Conclusão:\n",
    "\n",
    "Pelo teste Tukey, com $\\alpha = 5\\%$ podemos afirmar que a cultivar mais produtiva é a cia2 e as piores são br4 e toc2"
   ]
  }
 ],
 "metadata": {
  "kernelspec": {
   "display_name": "base",
   "language": "python",
   "name": "python3"
  },
  "language_info": {
   "codemirror_mode": {
    "name": "ipython",
    "version": 3
   },
   "file_extension": ".py",
   "mimetype": "text/x-python",
   "name": "python",
   "nbconvert_exporter": "python",
   "pygments_lexer": "ipython3",
   "version": "3.11.7"
  }
 },
 "nbformat": 4,
 "nbformat_minor": 2
}
